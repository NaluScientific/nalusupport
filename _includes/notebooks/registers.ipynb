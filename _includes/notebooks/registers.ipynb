{
 "cells": [
  {
   "attachments": {},
   "cell_type": "markdown",
   "metadata": {},
   "source": [
    "# Example: manipulating the register space\n",
    "The way to control the board is to control the register space.\\\n",
    "The FPGA register space is called ControlRegisters\n"
   ]
  },
  {
   "attachments": {},
   "cell_type": "markdown",
   "metadata": {},
   "source": [
    "### Naludaq Version\n",
    "*Max Version*: `0.17.2`  \n",
    "*Min Version*: `0.17.2`"
   ]
  },
  {
   "cell_type": "code",
   "execution_count": null,
   "metadata": {},
   "outputs": [],
   "source": [
    "# Print Naludaq version\n",
    "import naludaq\n",
    "print(f\"Naludaq version: {naludaq.__version__}\")"
   ]
  },
  {
   "attachments": {},
   "cell_type": "markdown",
   "metadata": {},
   "source": [
    "### Compatible Boards\n",
    "+ `AARDVARCv3`\n",
    "+ `HDSOCv1_evalr2`\n",
    "+ `ASOCv3`\n",
    "+ `AODSv2`\n",
    "+ `TRBHM`\n",
    "+ `AODSOC_AODS`\n",
    "+ `AODSOC_ASOC`\n",
    "+ `UPAC32`\n",
    "+ `UPAC96`\n"
   ]
  },
  {
   "cell_type": "code",
   "execution_count": 1,
   "metadata": {},
   "outputs": [],
   "source": [
    "%load_ext autoreload"
   ]
  },
  {
   "cell_type": "code",
   "execution_count": 2,
   "metadata": {},
   "outputs": [],
   "source": [
    "%autoreload 2"
   ]
  },
  {
   "attachments": {},
   "cell_type": "markdown",
   "metadata": {},
   "source": [
    "\n",
    "## imports"
   ]
  },
  {
   "cell_type": "code",
   "execution_count": 22,
   "metadata": {},
   "outputs": [],
   "source": [
    "from naludaq.board import Board, startup_board\n",
    "\n",
    "# The communication submodule contains the tools to talk to the register space directly\n",
    "from naludaq.communication import (\n",
    "    ControlRegisters,\n",
    "    DigitalRegisters,\n",
    "    AnalogRegisters,\n",
    ")\n"
   ]
  },
  {
   "cell_type": "code",
   "execution_count": 23,
   "metadata": {},
   "outputs": [],
   "source": [
    "BOARD = Board('asocv3')\n",
    "BOARD.load_registers()\n",
    "BOARD.load_clockfile()"
   ]
  },
  {
   "cell_type": "code",
   "execution_count": 24,
   "metadata": {},
   "outputs": [],
   "source": [
    "srnum = 'XXXX'  # all need is the last 4 chars of the serial number\n",
    "BOARD.get_ftdi_connection(serial_number=srnum)"
   ]
  },
  {
   "cell_type": "code",
   "execution_count": null,
   "metadata": {},
   "outputs": [],
   "source": [
    "# optional, startup the board\n",
    "startup_board(BOARD)"
   ]
  },
  {
   "attachments": {},
   "cell_type": "markdown",
   "metadata": {},
   "source": [
    "### Instantiate the registers\n",
    "each register has it's own class to instantiate, talking to a specific register space"
   ]
  },
  {
   "cell_type": "code",
   "execution_count": 25,
   "metadata": {},
   "outputs": [],
   "source": [
    "CR = ControlRegisters(BOARD)\n",
    "# The other registers require the board to be started.\n",
    "AR = AnalogRegisters(BOARD)\n",
    "DR = DigitalRegisters(BOARD)"
   ]
  },
  {
   "attachments": {},
   "cell_type": "markdown",
   "metadata": {},
   "source": [
    "### Read registers from the board\n",
    "These commands will return the values from the registers\\\n",
    "The exception is read all which will return all the full registers."
   ]
  },
  {
   "cell_type": "code",
   "execution_count": null,
   "metadata": {},
   "outputs": [],
   "source": [
    "CR.read(\"identifier\")\n",
    "CR.read_addr(0x00)\n",
    "CR.read_all()"
   ]
  },
  {
   "attachments": {},
   "cell_type": "markdown",
   "metadata": {},
   "source": [
    "### Write registers to the board\n",
    "These commands will send the commands to the boards and update the software registers as well as the hardware registers."
   ]
  },
  {
   "cell_type": "code",
   "execution_count": null,
   "metadata": {},
   "outputs": [],
   "source": [
    "CR.write(\"identifier\", 0xAAAA)\n",
    "CR.write(\"identifier\") # Will write the default value stored in the board.registers\n",
    "\n",
    "# The same is true for write to address:\n",
    "CR.write_addr(0x00, 0xBBBB)\n",
    "CR.write_addr(0x00)\n",
    "\n",
    "# Write all will send all the values stored in the board.registers\n",
    "CR.write_all()"
   ]
  },
  {
   "attachments": {},
   "cell_type": "markdown",
   "metadata": {},
   "source": [
    "### Generate commands\n",
    "Will generate a hex-string of the command to send, this is useful if you want to inspect the commands before sending.\\\n",
    "Normally, the registers module is designed to send to the board.\\\n",
    "Generate commands are named as the read and write commands but prefix with `generate_`"
   ]
  },
  {
   "cell_type": "code",
   "execution_count": 21,
   "metadata": {},
   "outputs": [
    {
     "data": {
      "text/plain": [
       "'AF00DEAD'"
      ]
     },
     "execution_count": 21,
     "metadata": {},
     "output_type": "execute_result"
    }
   ],
   "source": [
    "# Default is to generate a write command using name\n",
    "CR.generate_write(\"identifier\", 0xDEAD)"
   ]
  },
  {
   "cell_type": "code",
   "execution_count": 7,
   "metadata": {},
   "outputs": [
    {
     "data": {
      "text/plain": [
       "'B001bAAA'"
      ]
     },
     "execution_count": 7,
     "metadata": {},
     "output_type": "execute_result"
    }
   ],
   "source": [
    "AR.generate_write(\"isel\", 0xAAA)"
   ]
  },
  {
   "cell_type": "code",
   "execution_count": 12,
   "metadata": {},
   "outputs": [
    {
     "data": {
      "text/plain": [
       "'B001BAAA'"
      ]
     },
     "execution_count": 12,
     "metadata": {},
     "output_type": "execute_result"
    }
   ],
   "source": [
    "# But you can also generate a write command based on address\n",
    "AR.generate_write_addr(0x1b, 0xAAA)"
   ]
  },
  {
   "cell_type": "code",
   "execution_count": 9,
   "metadata": {},
   "outputs": [
    {
     "data": {
      "text/plain": [
       "'AD000000'"
      ]
     },
     "execution_count": 9,
     "metadata": {},
     "output_type": "execute_result"
    }
   ],
   "source": [
    "# To generate a read register command, add `_generate``\n",
    "CR.generate_read(\"identifier\")"
   ]
  },
  {
   "cell_type": "code",
   "execution_count": 20,
   "metadata": {},
   "outputs": [
    {
     "data": {
      "text/plain": [
       "'AD000000'"
      ]
     },
     "execution_count": 20,
     "metadata": {},
     "output_type": "execute_result"
    }
   ],
   "source": [
    "# Same pattern as before, prefix with `_generate`\n",
    "CR.generate_read_addr(0x00)"
   ]
  },
  {
   "attachments": {},
   "cell_type": "markdown",
   "metadata": {},
   "source": [
    "### Tools to explore the registers\n",
    "These are helper functions to list and explore the registers loaded on the board.\\\n",
    "The information can easily be accessed from the board, but in certain scenarios "
   ]
  },
  {
   "cell_type": "code",
   "execution_count": 30,
   "metadata": {},
   "outputs": [],
   "source": [
    "# Show the software register\n",
    "register = CR.show(\"identifier\")"
   ]
  },
  {
   "cell_type": "code",
   "execution_count": 27,
   "metadata": {},
   "outputs": [],
   "source": [
    "# List the names of all the registers\n",
    "names = CR.list()"
   ]
  },
  {
   "cell_type": "code",
   "execution_count": 29,
   "metadata": {},
   "outputs": [],
   "source": [
    "# List all addresses\n",
    "addreses = CR.list_addresses()"
   ]
  },
  {
   "cell_type": "code",
   "execution_count": 28,
   "metadata": {},
   "outputs": [],
   "source": [
    "# list all registers as dictionaries\n",
    "registers = CR.list_registers()"
   ]
  }
 ],
 "metadata": {
  "interpreter": {
   "hash": "a66487c2868f67c5bb88840f12d63d9e1b5bffa67ee0f4cd25630e7282ab83d2"
  },
  "kernelspec": {
   "display_name": "Python 3.9.7 ('nalu')",
   "language": "python",
   "name": "python3"
  },
  "language_info": {
   "codemirror_mode": {
    "name": "ipython",
    "version": 3
   },
   "file_extension": ".py",
   "mimetype": "text/x-python",
   "name": "python",
   "nbconvert_exporter": "python",
   "pygments_lexer": "ipython3",
   "version": "3.9.7"
  },
  "orig_nbformat": 4
 },
 "nbformat": 4,
 "nbformat_minor": 2
}
