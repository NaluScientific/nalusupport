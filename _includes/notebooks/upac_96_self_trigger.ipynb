{
 "cells": [
  {
   "attachments": {},
   "cell_type": "markdown",
   "metadata": {},
   "source": [
    "## UPAC96 Self Trigger\n",
    "\n",
    "This notebook demostrates how to use the self trigger of the UPAC96 to capture events. "
   ]
  },
  {
   "attachments": {},
   "cell_type": "markdown",
   "metadata": {},
   "source": [
    "### Naludaq Version\n",
    "*Max Version*: `0.17.2`  \n",
    "*Min Version*: `0.17.2`"
   ]
  },
  {
   "cell_type": "code",
   "execution_count": null,
   "metadata": {},
   "outputs": [],
   "source": [
    "# Print Naludaq version\n",
    "import naludaq\n",
    "print(f\"Naludaq version: {naludaq.__version__}\")"
   ]
  },
  {
   "attachments": {},
   "cell_type": "markdown",
   "metadata": {},
   "source": [
    "### Compatible Boards\n",
    "+ `UPAC96`\n",
    "    + Firmware: `v911` - `v911`\n"
   ]
  },
  {
   "cell_type": "code",
   "execution_count": null,
   "metadata": {},
   "outputs": [],
   "source": [
    "%load_ext autoreload\n",
    "%autoreload 2\n",
    "%matplotlib widget\n",
    "\n",
    "import numpy as np\n",
    "import matplotlib\n",
    "import matplotlib.pyplot as plt\n",
    "import time\n",
    "\n",
    "from naludaq.board import Board, startup_board\n",
    "from naludaq.daq import DebugDaq\n",
    "from naludaq.parsers import Upac96Parser\n",
    "from naludaq.controllers import get_board_controller, get_dac_controller, get_trigger_controller"
   ]
  },
  {
   "attachments": {},
   "cell_type": "markdown",
   "metadata": {},
   "source": [
    "## Board Connection and Persistent Objects"
   ]
  },
  {
   "cell_type": "code",
   "execution_count": null,
   "metadata": {},
   "outputs": [],
   "source": [
    "board = Board('upac96')\n",
    "board.load_registers()\n",
    "board.get_ftdi_connection(serial_number='FTCKIDF5', baud=2000000)\n",
    "startup_board(board)"
   ]
  },
  {
   "attachments": {},
   "cell_type": "markdown",
   "metadata": {},
   "source": [
    "### Channel Trigger Mask"
   ]
  },
  {
   "cell_type": "code",
   "execution_count": null,
   "metadata": {},
   "outputs": [],
   "source": [
    "# Set Channels to self trigger on\n",
    "trig_ctrl = get_trigger_controller(board)\n",
    "\n",
    "# Triggering on Channel 0 and 2 is set to enabled \n",
    "trig_ctrl.set_channel_trigger_mask([0, 2]) # Format: [0, 1, 2, 5, 7, 23 ...]\n"
   ]
  },
  {
   "attachments": {},
   "cell_type": "markdown",
   "metadata": {},
   "source": [
    "### Trigger Thresholds"
   ]
  },
  {
   "cell_type": "code",
   "execution_count": null,
   "metadata": {},
   "outputs": [],
   "source": [
    "trig_ctrl = get_trigger_controller(board)\n",
    "\n",
    "# Set trigger values to desired values, then set the\n",
    "# trigger controller trigger_values, default trigger value is 0\n",
    "trigger_values = [0] * 96 # Initialize a list of trigger values, \n",
    "trigger_values[2] = 1800 # Sets Channel 2 to a trigger value of 1800\n",
    "trig_ctrl.trigger_values = trigger_values"
   ]
  },
  {
   "attachments": {},
   "cell_type": "markdown",
   "metadata": {},
   "source": [
    "### Trigger Edges"
   ]
  },
  {
   "cell_type": "code",
   "execution_count": null,
   "metadata": {},
   "outputs": [],
   "source": [
    "# Channel edges is a list of 96 bools, for the 96 channels, default is false\n",
    "# False is falling edge, and True is rising edge\n",
    "trig_ctrl = get_trigger_controller(board)\n",
    "channel_edges = [False] * 96 # Initialize a list of edge values for all channels\n",
    "channel_edges[10] = True # Set Channel 10 to trigger on rising edge\n",
    "trig_ctrl.set_trigger_edge(channel_edges)"
   ]
  },
  {
   "attachments": {},
   "cell_type": "markdown",
   "metadata": {},
   "source": [
    "### Coincidence Trigger"
   ]
  },
  {
   "cell_type": "code",
   "execution_count": null,
   "metadata": {},
   "outputs": [],
   "source": [
    "# Input takes a dict of chips you would like to set, mapping the chip num\n",
    "# to a bool value stating if whether to set a chip to coincidence\n",
    "# trigger mode, by default coicidence trigger is disabled\n",
    "trig_ctrl = get_trigger_controller(board)\n",
    "# Set Channel 0 to regular trigger mode, triggering when any enabled channels meets their trigger condition\n",
    "# Set Channel 1 & 4 to coincidence trigger mode, triggering when all enabled channels meets their trigger condition\n",
    "coincidences = {0: False, 1: True, 4: True}\n",
    "trig_ctrl.set_coincidence_trigger_enabled(coincidences)"
   ]
  },
  {
   "cell_type": "code",
   "execution_count": null,
   "metadata": {},
   "outputs": [],
   "source": [
    "# If you don't have a function generator hooked up,\n",
    "# you can sweep over the dac values to trigger\n",
    "trig_ctrl = get_trigger_controller(board)\n",
    "bc = get_board_controller(board)\n",
    "dc = get_dac_controller(board)\n",
    "\n",
    "ddaq = DebugDaq(board, store_raw_data=True)\n",
    "ddaq.start_capture()\n",
    "time.sleep(0.1)\n",
    "dc.set_dacs(1800, channels=[0])\n",
    "time.sleep(0.2)\n",
    "# Set continuous mode if you want test triggering more than once\n",
    "# bc.set_continuous_mode(True)\n",
    "bc.start_readout(\"self\")\n",
    "try:\n",
    "    for dac in range(2000, 2400, 100):\n",
    "        dc.set_dacs(dac, channels=[0])\n",
    "        time.sleep(2)\n",
    "        if len(ddaq.output_buffer) > 0:\n",
    "            print(f\"Triggered on DAC value: {dac}\")\n",
    "            break\n",
    "except KeyboardInterrupt:\n",
    "    pass\n",
    "finally:\n",
    "    bc.stop_readout()\n",
    "    ddaq.stop_capture()\n",
    "    print(f\"Output Buffer len: {len(ddaq.output_buffer)}\")"
   ]
  },
  {
   "attachments": {},
   "cell_type": "markdown",
   "metadata": {},
   "source": [
    "### For testing with a function generator"
   ]
  },
  {
   "attachments": {},
   "cell_type": "markdown",
   "metadata": {},
   "source": [
    "A square wave is recommended if testing with a function generator,\n",
    "Starting input could be, 400 mVpp, 2 MHz"
   ]
  },
  {
   "cell_type": "code",
   "execution_count": null,
   "metadata": {},
   "outputs": [],
   "source": [
    "parser = Upac96Parser(board.params)\n",
    "ddaq = DebugDaq(board, store_raw_data=True, custom_parser = parser)\n",
    "ddaq.start_capture()\n",
    "time.sleep(0.1)\n",
    "dc.set_dacs(2300, channels=[0, 32]) # channels take input 0 for channels 0-15, 16 for 16-31, ... \n",
    "time.sleep(0.2)\n",
    "# Set continuous mode if you want test triggering more than once\n",
    "# bc.set_continuous_mode(True)\n",
    "bc.start_readout(\"self\")\n",
    "try:\n",
    "    while len(ddaq.output_buffer) <= 0:\n",
    "        time.sleep(2)\n",
    "except KeyboardInterrupt:\n",
    "    pass\n",
    "finally:\n",
    "    bc.stop_readout()\n",
    "    ddaq.stop_capture()\n",
    "    print(f\"Output Buffer len: {len(ddaq.output_buffer)}\")"
   ]
  },
  {
   "attachments": {},
   "cell_type": "markdown",
   "metadata": {},
   "source": [
    "### Plot Data"
   ]
  },
  {
   "cell_type": "code",
   "execution_count": null,
   "metadata": {},
   "outputs": [],
   "source": [
    "%matplotlib widget\n",
    "\n",
    "# Setup graph style\n",
    "matplotlib.rcParams.update({'font.size': 12})\n",
    "matplotlib.rcParams.update({'font.family': 'monospace'})\n",
    "data = ddaq.output_buffer[0]['data']\n",
    "fig = plt.figure(figsize=(8,6), constrained_layout=True)\n",
    "plt.xlabel('Time')\n",
    "plt.ylabel('ADC Counts')\n",
    "plt.title('UPAC96 Capture')\n",
    "for channel in [*range(0,16)]:\n",
    "    ch_data = data[channel]\n",
    "    ax = plt.plot(ch_data, '.-', label=f\"Channel {channel}\")\n",
    "plt.legend()\n",
    "plt.show()"
   ]
  },
  {
   "cell_type": "code",
   "execution_count": null,
   "metadata": {},
   "outputs": [],
   "source": [
    "board.disconnect()"
   ]
  }
 ],
 "metadata": {
  "kernelspec": {
   "display_name": "Python 3.9.12 ('nalu-dev')",
   "language": "python",
   "name": "python3"
  },
  "language_info": {
   "codemirror_mode": {
    "name": "ipython",
    "version": 3
   },
   "file_extension": ".py",
   "mimetype": "text/x-python",
   "name": "python",
   "nbconvert_exporter": "python",
   "pygments_lexer": "ipython3",
   "version": "3.9.16"
  },
  "vscode": {
   "interpreter": {
    "hash": "19aafdb373e9c9f5f579aba7283426ef4b21b1116573b1fcfac821e6343cfbff"
   }
  }
 },
 "nbformat": 4,
 "nbformat_minor": 2
}
