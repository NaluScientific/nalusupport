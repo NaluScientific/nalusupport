{
 "cells": [
  {
   "attachments": {},
   "cell_type": "markdown",
   "metadata": {},
   "source": [
    "## UPAC96 Startup\n",
    "\n",
    "This notebook demostrates how to startup the UPAC96 and capture an event"
   ]
  },
  {
   "attachments": {},
   "cell_type": "markdown",
   "metadata": {},
   "source": [
    "### Naludaq Version\n",
    "*Max Version*: `0.17.2`  \n",
    "*Min Version*: `0.17.2`"
   ]
  },
  {
   "cell_type": "code",
   "execution_count": null,
   "metadata": {},
   "outputs": [],
   "source": [
    "# Print Naludaq version\n",
    "import naludaq\n",
    "print(f\"Naludaq version: {naludaq.__version__}\")"
   ]
  },
  {
   "attachments": {},
   "cell_type": "markdown",
   "metadata": {},
   "source": [
    "### Compatible Boards\n",
    "+ `UPAC96`\n",
    "    + Firmware: `v911` - `v911`\n"
   ]
  },
  {
   "cell_type": "code",
   "execution_count": null,
   "metadata": {},
   "outputs": [],
   "source": [
    "%load_ext autoreload\n",
    "%autoreload 2\n",
    "\n",
    "from collections import deque\n",
    "from logging import getLogger, DEBUG, INFO, StreamHandler, Formatter\n",
    "\n",
    "from naludaq.board.connections._UART import UART\n",
    "from naludaq.board.connections._FTDI import FTDI\n",
    "from naludaq.board import Board, startup_board\n",
    "from naludaq.communication import AnalogRegisters, DigitalRegisters, ControlRegisters\n",
    "from naludaq.daq.workers.worker_serial_reader import SerialReader\n",
    "\n",
    "import serial\n",
    "import time"
   ]
  },
  {
   "cell_type": "code",
   "execution_count": null,
   "metadata": {},
   "outputs": [],
   "source": [
    "ports = [comport for comport in serial.tools.list_ports.comports()]\n",
    "for port in ports:\n",
    "    print(port.device)"
   ]
  },
  {
   "attachments": {},
   "cell_type": "markdown",
   "metadata": {},
   "source": [
    "### Logger"
   ]
  },
  {
   "cell_type": "code",
   "execution_count": null,
   "metadata": {},
   "outputs": [],
   "source": [
    "def setup_logger(connection_level = DEBUG):\n",
    "    \"\"\"Setup a logger for Naludaq to print out debug information.\n",
    "    \n",
    "    Args:\n",
    "        connection_level (int): Sets logging level for UART/FTDI connections.\n",
    "            Warning: If set too low, VS Code may crash\n",
    "    \"\"\"\n",
    "    logger = getLogger()\n",
    "    logger.setLevel(DEBUG)\n",
    "\n",
    "    # UART is very verbose, keep on info unless something is broken.\n",
    "    getLogger(\"naludaq.UART\").setLevel(connection_level)\n",
    "    getLogger(\"naludaq.FTDI\").setLevel(connection_level)\n",
    "\n",
    "    handler = StreamHandler()\n",
    "    handler.setFormatter(Formatter(\"%(asctime)s %(name)-30s [%(levelname)-6s]: %(message)s\"))\n",
    "    logger.addHandler(handler)\n",
    "\n",
    "    return logger\n",
    "\n",
    "try:\n",
    "    logger\n",
    "except:\n",
    "    logger = setup_logger()\n"
   ]
  },
  {
   "attachments": {},
   "cell_type": "markdown",
   "metadata": {},
   "source": [
    "## Board Connection"
   ]
  },
  {
   "cell_type": "code",
   "execution_count": null,
   "metadata": {},
   "outputs": [],
   "source": [
    "board = Board('upac96')\n",
    "board.load_registers()\n",
    "board.get_ftdi_connection(serial_number='A904CZWB', baud=115200)\n"
   ]
  },
  {
   "attachments": {},
   "cell_type": "markdown",
   "metadata": {},
   "source": [
    "### Startup Routine"
   ]
  },
  {
   "cell_type": "code",
   "execution_count": null,
   "metadata": {},
   "outputs": [],
   "source": [
    "startup_board(board)"
   ]
  },
  {
   "cell_type": "code",
   "execution_count": null,
   "metadata": {},
   "outputs": [],
   "source": [
    "cr = ControlRegisters(board)\n",
    "# Flush fifos\n",
    "cr.write('usb_fifo_disable', 1)\n",
    "cr.write('uart_fifo_disable', 1)\n",
    "time.sleep(0.1)\n",
    "cr.write('usb_fifo_disable', 0)\n",
    "cr.write('uart_fifo_disable', 1)\n",
    "print(f\"udc_tx_idle_locked: {cr.read('udc_tx_idle_locked')}\")\n",
    "print(f\"udc_rxout_locked: {cr.read('udc_rxout_locked')}\")"
   ]
  },
  {
   "attachments": {},
   "cell_type": "markdown",
   "metadata": {},
   "source": [
    "### Get Ready for Data"
   ]
  },
  {
   "cell_type": "code",
   "execution_count": null,
   "metadata": {},
   "outputs": [],
   "source": [
    "dr = DigitalRegisters(board)\n",
    "dr.write('enable_testpattern', 1)\n",
    "cr.write('continuousmode', 1)\n",
    "cr.write('arm', 1)\n",
    "time.sleep(0.25)\n",
    "cr.write('arm', 0)\n",
    "cr.write('udc_rxout_enable', 0)\n",
    "cr.write('udc_txin_enable', 0)\n",
    "time.sleep(0.25)\n",
    "cr.write('udc_rxout_enable', 0x3F)\n",
    "cr.write('udc_txin_enable', 0x3F)"
   ]
  },
  {
   "attachments": {},
   "cell_type": "markdown",
   "metadata": {},
   "source": [
    "### Trigger"
   ]
  },
  {
   "cell_type": "code",
   "execution_count": null,
   "metadata": {},
   "outputs": [],
   "source": [
    "# \"00\"   Software Trigger\n",
    "# \"01\"   UDC Self Trigger\n",
    "# \"10\"   FPGA auto trigger 1 Hz\n",
    "# \"11\"   External Trigger\n",
    "cr.write('trigger_select', 0x00)"
   ]
  },
  {
   "attachments": {},
   "cell_type": "markdown",
   "metadata": {},
   "source": [
    "### Get Data"
   ]
  },
  {
   "cell_type": "code",
   "execution_count": null,
   "metadata": {},
   "outputs": [],
   "source": [
    "buffer = deque()"
   ]
  },
  {
   "cell_type": "code",
   "execution_count": null,
   "metadata": {},
   "outputs": [],
   "source": [
    "sr = SerialReader(board.connection, buffer)\n",
    "sr.start()\n",
    "time.sleep(0.1)\n",
    "board.connection.send('C0000003')\n",
    "time.sleep(12)\n",
    "sr.stop()"
   ]
  },
  {
   "cell_type": "code",
   "execution_count": null,
   "metadata": {},
   "outputs": [],
   "source": [
    "data_size = sum([len(packet) for packet in buffer])\n",
    "data = [packet for packet in buffer]\n",
    "\n",
    "print(data_size)"
   ]
  },
  {
   "cell_type": "code",
   "execution_count": null,
   "metadata": {},
   "outputs": [],
   "source": [
    "data = b\"\".join(reversed(data))"
   ]
  },
  {
   "cell_type": "code",
   "execution_count": null,
   "metadata": {},
   "outputs": [],
   "source": [
    "for i in range(0, len(data), 2):\n",
    "    print(f\"{i//2:<6}: {data[i:i+2].hex()}\")"
   ]
  },
  {
   "cell_type": "code",
   "execution_count": null,
   "metadata": {},
   "outputs": [],
   "source": [
    "board.disconnect()"
   ]
  }
 ],
 "metadata": {
  "kernelspec": {
   "display_name": "Python 3.9.12 ('nalu-dev')",
   "language": "python",
   "name": "python3"
  },
  "language_info": {
   "codemirror_mode": {
    "name": "ipython",
    "version": 3
   },
   "file_extension": ".py",
   "mimetype": "text/x-python",
   "name": "python",
   "nbconvert_exporter": "python",
   "pygments_lexer": "ipython3",
   "version": "3.9.12"
  },
  "orig_nbformat": 4,
  "vscode": {
   "interpreter": {
    "hash": "19aafdb373e9c9f5f579aba7283426ef4b21b1116573b1fcfac821e6343cfbff"
   }
  }
 },
 "nbformat": 4,
 "nbformat_minor": 2
}
