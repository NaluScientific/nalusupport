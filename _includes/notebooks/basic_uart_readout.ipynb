{
 "cells": [
  {
   "attachments": {},
   "cell_type": "markdown",
   "id": "65d921c6",
   "metadata": {},
   "source": [
    "# AODSOC basic UART readout example\n",
    "This example notebooks show how a user can read out the data from the AODSOC.\n",
    "It is a basic examples"
   ]
  },
  {
   "attachments": {},
   "cell_type": "markdown",
   "id": "fdd283a0",
   "metadata": {},
   "source": [
    "### Naludaq Version\n",
    "*Max Version*: `0.17.2`  \n",
    "*Min Version*: `0.17.2`"
   ]
  },
  {
   "cell_type": "code",
   "execution_count": null,
   "id": "09e7cd58",
   "metadata": {},
   "outputs": [],
   "source": [
    "# Print Naludaq version\n",
    "import naludaq\n",
    "print(f\"Naludaq version: {naludaq.__version__}\")"
   ]
  },
  {
   "attachments": {},
   "cell_type": "markdown",
   "id": "219057d8",
   "metadata": {},
   "source": [
    "### Compatible Boards\n",
    "+ `AARDVARCv3`\n",
    "+ `HDSOCv1_evalr2`\n",
    "+ `ASOCv3`\n",
    "+ `AODSv2`\n",
    "+ `TRBHM`\n",
    "+ `AODSOC_AODS`\n",
    "+ `AODSOC_ASOC`\n",
    "+ `UPAC32`\n"
   ]
  },
  {
   "attachments": {},
   "cell_type": "markdown",
   "id": "53a50212-4948-4bd3-a5f0-af6dc0f623ca",
   "metadata": {},
   "source": [
    "## imports and variables"
   ]
  },
  {
   "cell_type": "code",
   "execution_count": 33,
   "id": "d1fbba11-eac1-42f1-ba2d-986611da3774",
   "metadata": {},
   "outputs": [
    {
     "name": "stdout",
     "output_type": "stream",
     "text": [
      "The autoreload extension is already loaded. To reload it, use:\n",
      "  %reload_ext autoreload\n"
     ]
    }
   ],
   "source": [
    "%load_ext autoreload\n",
    "%autoreload 2"
   ]
  },
  {
   "cell_type": "code",
   "execution_count": 34,
   "id": "874274c1-f553-4c8d-b88e-8c6c036bcd8f",
   "metadata": {},
   "outputs": [],
   "source": [
    "import time\n",
    "from collections import deque\n",
    "import numpy as np\n",
    "\n",
    "# Imports for board creation and identification\n",
    "from naludaq.board import Board, startup_board\n",
    "from naludaq.tools.ftdi import list_ftdi_devices\n",
    "\n",
    "# Registers modules handles communication with FPGA and ASIC registers.\n",
    "from naludaq.communication import ControlRegisters, DigitalRegisters, AnalogRegisters\n",
    "\n",
    "# Controllers controls one aspect of the board, board controllers start/stop acquisitons, readout controllers set the readout parameters.\n",
    "from naludaq.controllers import get_board_controller, get_readout_controller\n",
    "\n",
    "# Imports for data acquisition.\n",
    "from naludaq.daq.workers.worker_serial_reader import SerialReader\n",
    "from naludaq.daq.workers.packager import get_packager\n",
    "import pickle"
   ]
  },
  {
   "cell_type": "code",
   "execution_count": 4,
   "id": "6b895960",
   "metadata": {},
   "outputs": [],
   "source": [
    "from logging import getLogger, Formatter, StreamHandler, INFO, DEBUG\n",
    "\n",
    "def setup_logger(level=INFO):\n",
    "    \"\"\"Setup a basic logger.\n",
    "    \n",
    "    Logging to the stream formatted for easy visual readout.\n",
    "    \n",
    "    Args:\n",
    "        level: Logging level, ex. logging.INFO\n",
    "        \n",
    "    Returns:\n",
    "        logger object.\n",
    "    \"\"\"\n",
    "    logger = getLogger()\n",
    "    handler = StreamHandler()\n",
    "    handler.setFormatter(Formatter('%(asctime)s %(name)-30s [%(levelname)-6s]: %(message)s'))\n",
    "    logger.addHandler(handler)\n",
    "    logger.setLevel(DEBUG)\n",
    "    uart = getLogger('naludaq.board.connections._UART')\n",
    "    uart.setLevel(DEBUG)\n",
    "    \n",
    "    return logger\n",
    "\n",
    "try:\n",
    "    logger.debug(\"logger already setup\")\n",
    "except:\n",
    "    logger = setup_logger(DEBUG)"
   ]
  },
  {
   "attachments": {},
   "cell_type": "markdown",
   "id": "2c37951b-7f07-4690-a6ae-e3ccc64dde8e",
   "metadata": {},
   "source": [
    "## Create board object"
   ]
  },
  {
   "attachments": {},
   "cell_type": "markdown",
   "id": "5f3a6325",
   "metadata": {},
   "source": [
    "Use the function below to find the serialnumber of the board you want to connect to."
   ]
  },
  {
   "cell_type": "code",
   "execution_count": null,
   "id": "52d9cb31-d506-40f8-88ee-b18068d4d1de",
   "metadata": {
    "scrolled": true,
    "tags": []
   },
   "outputs": [],
   "source": [
    "list_ftdi_devices()"
   ]
  },
  {
   "cell_type": "code",
   "execution_count": 35,
   "id": "2b6e5a14-3517-48dc-8070-eb5a7d5aba89",
   "metadata": {},
   "outputs": [],
   "source": [
    "model, ser_no, baud = 'aodsoc_aods', 'B308B', 2_000_000 # AODS version\n",
    "# model, ser_no = 'aodsoc_asoc', '5D4BB', 2_000_000 # ASOC version"
   ]
  },
  {
   "cell_type": "code",
   "execution_count": 36,
   "id": "b8b74087-cc1a-4274-9ae0-30c7fea69dbc",
   "metadata": {},
   "outputs": [],
   "source": [
    "BOARD = Board(model)\n",
    "BOARD.load_registers()\n",
    "BOARD.load_clockfile()"
   ]
  },
  {
   "cell_type": "code",
   "execution_count": null,
   "id": "95a8cc8e-2ff2-4b42-b945-0c72f8078ec5",
   "metadata": {},
   "outputs": [],
   "source": [
    "BOARD.get_ftdi_connection(serial_number=ser_no, baud=baud)"
   ]
  },
  {
   "cell_type": "code",
   "execution_count": null,
   "id": "0ac40638-c852-48a2-b8a5-a12e85ea6eb2",
   "metadata": {
    "scrolled": true,
    "tags": []
   },
   "outputs": [],
   "source": [
    "with BOARD:\n",
    "    startup_board(BOARD)"
   ]
  },
  {
   "attachments": {},
   "cell_type": "markdown",
   "id": "06e63322-41f5-40aa-8a7a-c03518fd0bc6",
   "metadata": {},
   "source": [
    "# Readout unprocessed bytes"
   ]
  },
  {
   "cell_type": "code",
   "execution_count": 42,
   "id": "0845fd09-4d5d-4c73-9f01-b2d3b9cad60f",
   "metadata": {},
   "outputs": [],
   "source": [
    "def readout_buffer(windows=2, lookback=2, amount=2, testmode=True) -> bytearray:\n",
    "    \"\"\"Readout data by filling the buffer and then reading it.\n",
    "    \n",
    "    This means reading out more data that the serailbuffer can hold will be discarded.\n",
    "    \n",
    "    Args:\n",
    "        windows (int): Number of windows to readout.\n",
    "        lookback (int): Number of windows to lookback.\n",
    "        amount (int): Number of events to readout.\n",
    "        testmode (bool): If True, readout will readout ASIC test pattern.\n",
    "\n",
    "    Returns:\n",
    "        bytearray: Data readout.\n",
    "    \"\"\"\n",
    "    if amount > 10:\n",
    "        print(\"amount too large, setting amount to 10\")\n",
    "        amount = 10\n",
    "    _rc = get_readout_controller(BOARD)\n",
    "    _bc = get_board_controller(BOARD)\n",
    "    with BOARD:\n",
    "        ControlRegisters(BOARD).write('testmode', False)\n",
    "        DigitalRegisters(BOARD).write('enabletestpatt', testmode)\n",
    "        while BOARD.connection.in_waiting:\n",
    "            BOARD.connection.reset_input_buffer()\n",
    "        _rc.number_events_to_read(amount)\n",
    "        _rc.set_readout_channels(list(range(4)))\n",
    "        _rc.set_read_window(windows=windows, lookback=lookback, write_after_trig=16)\n",
    "\n",
    "        _bc.start_readout(trig='imm', lb='forced', readoutEn=True, singleEv=True)\n",
    "\n",
    "        time.sleep(1*amount)\n",
    "\n",
    "        _bc.stop_readout()\n",
    "\n",
    "        print(f\"Bytes in buffer: {BOARD.connection.in_waiting}\")\n",
    "        _data = BOARD.connection.read_all()\n",
    "    return _data"
   ]
  },
  {
   "cell_type": "code",
   "execution_count": null,
   "id": "4b48d6cd",
   "metadata": {},
   "outputs": [],
   "source": [
    "_data = readout_buffer(windows=2, lookback=2, amount=2, testmode=True)"
   ]
  },
  {
   "attachments": {},
   "cell_type": "markdown",
   "id": "2048c3d5-3806-42f9-92ef-6f145a7de189",
   "metadata": {},
   "source": [
    "## Readout uart with slicer\n",
    "This will continuously read out the uart, store it in a buffer then have a separate thread slice the data when encountering `stopword`."
   ]
  },
  {
   "cell_type": "code",
   "execution_count": null,
   "id": "dfc4d16e-8ffb-4aa5-b231-1b2b9a49fbfd",
   "metadata": {},
   "outputs": [],
   "source": [
    "def readout_packages(windows=2, lookback=2, amount=2, testmode=True) -> deque:\n",
    "    \"\"\"Readout data by usinga double buffer system.\n",
    "    \n",
    "    This allows for more data than the comport buffer can hold to be read.\n",
    "    Comes at the cost of another layer of abstraction.\n",
    "    \n",
    "    Uses two worker threads, one that polls the virtual comport and one that slices the data into packages.\n",
    "    \n",
    "    Args:\n",
    "        windows (int): Number of windows to readout.\n",
    "        lookback (int): Number of windows to lookback.\n",
    "        amount (int): Number of events to readout.\n",
    "        testmode (bool): If True, readout will readout ASIC test pattern.\n",
    "        \n",
    "    Returns:\n",
    "        deque: Data readout.\n",
    "    \"\"\"\n",
    "    sbuf = deque()\n",
    "    obuf = deque()\n",
    "    stopword = BOARD.params['stop_word']\n",
    "    sr = SerialReader(BOARD.connection, sbuf)\n",
    "    pk = get_packager(BOARD, sbuf, obuf, deque(), stopword, 100)\n",
    "\n",
    "    with BOARD:\n",
    "        while BOARD.connection.in_waiting:\n",
    "            BOARD.connection.reset_input_buffer()\n",
    "        DigitalRegisters(BOARD).write('enabletestpatt', testmode)\n",
    "        _rc = get_readout_controller(BOARD)\n",
    "        _bc = get_board_controller(BOARD)\n",
    "\n",
    "        _rc.number_events_to_read(amount)\n",
    "        _rc.set_readout_channels(list(range(4)))\n",
    "        _rc.set_read_window(windows=windows, lookback=lookback, write_after_trig=16)\n",
    "\n",
    "        _bc.start_readout(trig='imm', lb='forced', singleEv=True)\n",
    "        pk.start()\n",
    "        sr.start()\n",
    "        time.sleep(1*amount)\n",
    "        sr.stop()\n",
    "        pk.stop()\n",
    "        _bc.stop_readout()\n",
    "    return obuf"
   ]
  },
  {
   "cell_type": "code",
   "execution_count": null,
   "id": "7954046e",
   "metadata": {},
   "outputs": [],
   "source": [
    "_pkdata = readout_packages(windows=2, lookback=2, amount=2, testmode=True)"
   ]
  },
  {
   "cell_type": "code",
   "execution_count": null,
   "id": "318e4325",
   "metadata": {},
   "outputs": [],
   "source": [
    "with open('data.dat', 'wb') as f:\n",
    "    pickle.dump(_pkdata, f)"
   ]
  },
  {
   "attachments": {},
   "cell_type": "markdown",
   "id": "b8f277da",
   "metadata": {},
   "source": [
    "# Print the data\n",
    "Semple printout to show the data, this is a function to visualize the data and is highly dependent on the board `model`.\n",
    "The current sample is for the `AODSOC` boards."
   ]
  },
  {
   "cell_type": "code",
   "execution_count": null,
   "id": "88355bb3-e2ed-40f0-a3f6-b977531cdc7d",
   "metadata": {},
   "outputs": [],
   "source": [
    "_words = np.frombuffer(_data, '>H')\n",
    "\n",
    "samples = 64\n",
    "num_window_headers = 1\n",
    "num_channels = 4\n",
    "channel_footers = 0\n",
    "num_evt_headers = 3\n",
    "channels_per_chip = 4\n",
    "\n",
    "step_size = (samples + num_window_headers) * num_channels + channel_footers\n",
    "header_steps = range(0, len(_words)-step_size, step_size+num_evt_headers+1)\n",
    "channel_step_size = (samples + num_window_headers)\n",
    "\n",
    "windmask = 0b0000_0000_1111_1111\n",
    "chanmask = 0b0000_0011_0000_0000\n",
    "chanshift = 8\n",
    "\n",
    "err = 0\n",
    "for idx in header_steps:\n",
    "    window_steps = range(idx+num_evt_headers, idx+step_size-1, samples+num_window_headers)\n",
    "    chipnum = _words[idx] >> 12\n",
    "    \n",
    "    \n",
    "    print(' Next Chip '.center(80, '#'))\n",
    "    print('Chip number:', chipnum)\n",
    "    print('Headers:', _words[idx:idx+num_evt_headers])\n",
    "\n",
    "    for inner_idx in window_steps:\n",
    "        # First two words are window and channel\n",
    "        window = _words[inner_idx] & windmask\n",
    "        channel = (_words[inner_idx] & chanmask >> chanshift) #  + (chipnum*channels_per_chip)\n",
    "        data = _words[inner_idx+num_window_headers:inner_idx+channel_step_size]\n",
    "        \n",
    "        print(' Next Data '.center(80, '-'))\n",
    "        print('Window Header:', _words[inner_idx], bin(_words[inner_idx]))\n",
    "        print('Window:', window, 'Channel:', channel)\n",
    "        print('Data len:', len(data))\n",
    "        print('Data:', [f'{x:04x}' for x in data])\n",
    "        \n"
   ]
  }
 ],
 "metadata": {
  "kernelspec": {
   "display_name": "Python 3.9.7 ('nalu')",
   "language": "python",
   "name": "python3"
  },
  "language_info": {
   "codemirror_mode": {
    "name": "ipython",
    "version": 3
   },
   "file_extension": ".py",
   "mimetype": "text/x-python",
   "name": "python",
   "nbconvert_exporter": "python",
   "pygments_lexer": "ipython3",
   "version": "3.9.7"
  },
  "vscode": {
   "interpreter": {
    "hash": "accc7a960cce00f1cc1c7d0bbea67107a897accbf9e5f303b1e319fcac33fa0d"
   }
  }
 },
 "nbformat": 4,
 "nbformat_minor": 5
}
