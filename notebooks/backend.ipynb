{
 "cells": [
  {
   "attachments": {},
   "cell_type": "markdown",
   "metadata": {},
   "source": [
    "## Description\n",
    "\n",
    "The Rust **backend** is a standalone program designed to facilitate low-level communication with a board. The backend has limited capabilities, but it does provide:\n",
    "- A server through which a *context* can communicate using the REST API.\n",
    "- A simple web UI for executing one-shot commands (intended for debugging)\n",
    "- Support for connecting to a board accessible to the machine the backend is running on through three different types:\n",
    "    - Serial (UART)\n",
    "    - D2XX (we formerly called this this FTDI)\n",
    "    - UDP\n",
    "- Support for writing commands and reading answers (aka \"responses\"). For control registers, the backend internally inserts a command ID to verify that the received answer corresponds with the command which was sent.\n",
    "- A rudamentary file storage system for accessing binary *acquisitions*. This includes:\n",
    "    - Creating, deleting, and listing acquisitions\n",
    "    - Querying events and metadata from an acquisition\n",
    "    - Specifying which acquisition is currently the target (\"output\") for readouts.\n",
    "\n",
    "The **context** is simply a client in NaluDAQ which points to the backend. To create a context, the backend must be running and accessible by the local machine (the one where NaluDAQ is being used), and the address of the backend must be known. It is not necessary to know the address of the local machine. The context is used by NaluDAQ to send commands to the backend.\n",
    "\n",
    "An **acquisition**, in terms of the Rust backend, is a (possibly very large) folder containing a `metadata.json` file, as well as one or more pairs of binary (`.bin`) and index (`.idx`) files. A pair of these files is referred to as a **chunk**. The binary file contains raw events received from the board stored back-to-back, while the index file contains many packed 8-byte C structs representing each event in the chunk.  All acquisitions controlled by the backend are located in the working directory of the backend on the same machine.\n"
   ]
  },
  {
   "attachments": {},
   "cell_type": "markdown",
   "metadata": {},
   "source": [
    "### Naludaq Version\n",
    "*Max Version*: `0.17.2`  \n",
    "*Min Version*: `0.17.2`"
   ]
  },
  {
   "cell_type": "code",
   "execution_count": 1,
   "metadata": {},
   "outputs": [],
   "source": [
    "import base64\n",
    "\n",
    "with open(\"C:/Users/alvin/Downloads/naluscientific-github-0e891a28de81.json\", \"rb\") as file:\n",
    "    bytes = file.read()\n",
    "    encoded = base64.b64encode(bytes)\n",
    "\n",
    "with open(\"C:/Users/alvin/Downloads/naluscientific-github-0e891a28de81-encoded.json\", \"wb\") as file:\n",
    "    file.write(encoded)"
   ]
  },
  {
   "cell_type": "code",
   "execution_count": null,
   "metadata": {},
   "outputs": [],
   "source": [
    "# Print Naludaq version\n",
    "import naludaq\n",
    "print(f\"Naludaq version: {naludaq.__version__}\")"
   ]
  },
  {
   "attachments": {},
   "cell_type": "markdown",
   "metadata": {},
   "source": [
    "### Compatible Boards\n",
    "+ FTDI Supported Boards\n",
    "  + `AARDVARCv3`\n",
    "  + `HDSOCv1_evalr2`\n",
    "  + `ASOCv3`\n",
    "  + `AODSv2`\n",
    "  + `TRBHM`\n",
    "  + `AODSOC_AODS`\n",
    "  + `AODSOC_ASOC`\n",
    "  + `UPAC32`\n",
    "\n",
    "\n",
    "+ UDP Supported Boards\n",
    "  + `HDSOCv1_evalr2`\n",
    "  + `ASOCv3`\n",
    "  + `TRBHM` "
   ]
  },
  {
   "attachments": {},
   "cell_type": "markdown",
   "metadata": {},
   "source": [
    "## Connecting to a Board\n",
    "\n",
    "To communicate with a board, two things are needed (apart from the board itself).\n",
    "1. A instance of the backend running on a machine connected to your network (default address is `127.0.0.1:7878`, but you can use another address to open up the backend to different machines).\n",
    "2. A context in NaluDAQ created with the address of the backend.\n",
    "\n",
    "For the purpose of these examples, the backend is assumed to be running locally with address `127.0.0.1:7878` (the default address)."
   ]
  },
  {
   "attachments": {},
   "cell_type": "markdown",
   "metadata": {},
   "source": [
    "## Terminology\n",
    "\n",
    "The Rust **backend** is a standalone program designed to facilitate low-level communication with a board. The backend has limited capabilities, but it does provide:\n",
    "- A server through which a *context* can communicate using the REST API.\n",
    "- A simple web UI for executing one-shot commands (intended for debugging)\n",
    "- Support for connecting to a board accessible to the machine the backend is running on through three different types:\n",
    "    - Serial (UART)\n",
    "    - D2XX (we formerly called this this FTDI)\n",
    "    - UDP\n",
    "- Support for writing commands and reading answers (aka \"responses\"). For control registers, the backend internally inserts a command ID to verify that the received answer corresponds with the command which was sent.\n",
    "- A rudamentary file storage system for accessing binary *acquisitions*. This includes:\n",
    "    - Creating, deleting, and listing acquisitions\n",
    "    - Querying events and metadata from an acquisition\n",
    "    - Specifying which acquisition is currently the target (\"output\") for readouts.\n",
    "\n",
    "The **context** is simply a client in NaluDAQ which points to the backend. To create a context, the backend must be running and accessible by the local machine (the one where NaluDAQ is being used), and the address of the backend must be known. It is not necessary to know the address of the local machine. The context is used by NaluDAQ to send commands to the backend.\n",
    "\n",
    "An **acquisition**, in terms of the Rust backend, is a (possibly very large) folder containing a `metadata.json` file, as well as one or more pairs of binary (`.bin`) and index (`.idx`) files. A pair of these files is referred to as a **chunk**. The binary file contains raw events received from the board stored back-to-back, while the index file contains many packed 8-byte C structs representing each event in the chunk.  All acquisitions controlled by the backend are located in the working directory of the backend on the same machine.\n"
   ]
  },
  {
   "attachments": {},
   "cell_type": "markdown",
   "metadata": {},
   "source": [
    "## Terminology\n",
    "\n",
    "The Rust **backend** is a standalone program designed to facilitate low-level communication with a board. The backend has limited capabilities, but it does provide:\n",
    "- A server through which a *context* can communicate using the REST API.\n",
    "- A simple web UI for executing one-shot commands (intended for debugging)\n",
    "- Support for connecting to a board accessible to the machine the backend is running on through three different types:\n",
    "    - Serial (UART)\n",
    "    - D2XX (we formerly called this this FTDI)\n",
    "    - UDP\n",
    "- Support for writing commands and reading answers (aka \"responses\"). For control registers, the backend internally inserts a command ID to verify that the received answer corresponds with the command which was sent.\n",
    "- A rudamentary file storage system for accessing binary *acquisitions*. This includes:\n",
    "    - Creating, deleting, and listing acquisitions\n",
    "    - Querying events and metadata from an acquisition\n",
    "    - Specifying which acquisition is currently the target (\"output\") for readouts.\n",
    "\n",
    "The **context** is simply a client in NaluDAQ which points to the backend. To create a context, the backend must be running and accessible by the local machine (the one where NaluDAQ is being used), and the address of the backend must be known. It is not necessary to know the address of the local machine. The context is used by NaluDAQ to send commands to the backend.\n",
    "\n",
    "An **acquisition**, in terms of the Rust backend, is a (possibly very large) folder containing a `metadata.json` file, as well as one or more pairs of binary (`.bin`) and index (`.idx`) files. A pair of these files is referred to as a **chunk**. The binary file contains raw events received from the board stored back-to-back, while the index file contains many packed 8-byte C structs representing each event in the chunk.  All acquisitions controlled by the backend are located in the working directory of the backend on the same machine.\n"
   ]
  },
  {
   "attachments": {},
   "cell_type": "markdown",
   "metadata": {},
   "source": [
    "## Terminology\n",
    "\n",
    "The Rust **backend** is a standalone program designed to facilitate low-level communication with a board. The backend has limited capabilities, but it does provide:\n",
    "- A server through which a *context* can communicate using the REST API.\n",
    "- A simple web UI for executing one-shot commands (intended for debugging)\n",
    "- Support for connecting to a board accessible to the machine the backend is running on through three different types:\n",
    "    - Serial (UART)\n",
    "    - D2XX (we formerly called this this FTDI)\n",
    "    - UDP\n",
    "- Support for writing commands and reading answers (aka \"responses\"). For control registers, the backend internally inserts a command ID to verify that the received answer corresponds with the command which was sent.\n",
    "- A rudamentary file storage system for accessing binary *acquisitions*. This includes:\n",
    "    - Creating, deleting, and listing acquisitions\n",
    "    - Querying events and metadata from an acquisition\n",
    "    - Specifying which acquisition is currently the target (\"output\") for readouts.\n",
    "\n",
    "The **context** is simply a client in NaluDAQ which points to the backend. To create a context, the backend must be running and accessible by the local machine (the one where NaluDAQ is being used), and the address of the backend must be known. It is not necessary to know the address of the local machine. The context is used by NaluDAQ to send commands to the backend.\n",
    "\n",
    "An **acquisition**, in terms of the Rust backend, is a (possibly very large) folder containing a `metadata.json` file, as well as one or more pairs of binary (`.bin`) and index (`.idx`) files. A pair of these files is referred to as a **chunk**. The binary file contains raw events received from the board stored back-to-back, while the index file contains many packed 8-byte C structs representing each event in the chunk.  All acquisitions controlled by the backend are located in the working directory of the backend on the same machine.\n"
   ]
  },
  {
   "cell_type": "code",
   "execution_count": null,
   "metadata": {},
   "outputs": [],
   "source": [
    "%load_ext autoreload\n",
    "%autoreload 2\n",
    "from naludaq.board import Board, startup_board\n",
    "from naludaq.communication import ControlRegisters, DigitalRegisters"
   ]
  },
  {
   "attachments": {},
   "cell_type": "markdown",
   "metadata": {},
   "source": [
    "Create a new instance of the board and connect it to a board through a backend living at `127.0.0.1:7878`. Under the hood this will create a new context, accessible with `board.context`. For this example we will use an ASoCv3 connected via D2XX, but you may swap the board/connection type."
   ]
  },
  {
   "cell_type": "code",
   "execution_count": null,
   "metadata": {},
   "outputs": [],
   "source": [
    "board_model = \"asocv3\"\n",
    "board_serial_number = \"A904CW2B\"\n",
    "board_baudrate = 2000000\n",
    "output_dir = \".\"\n",
    "log_dir = \".\"  # Can be None, will default to output_dir / logs\n",
    "\n",
    "BOARD = Board(board_model)\n",
    "BOARD.start_server(output_dir=output_dir, log_dir=log_dir)\n",
    "BOARD.connect_d2xx(board_serial_number, board_baudrate, None)"
   ]
  },
  {
   "cell_type": "code",
   "execution_count": null,
   "metadata": {},
   "outputs": [],
   "source": [
    "BOARD.disconnect()"
   ]
  },
  {
   "cell_type": "code",
   "execution_count": null,
   "metadata": {},
   "outputs": [],
   "source": [
    "startup_board(BOARD)"
   ]
  },
  {
   "attachments": {},
   "cell_type": "markdown",
   "metadata": {},
   "source": [
    "You can now read/write registers and use controllers as normal."
   ]
  },
  {
   "cell_type": "code",
   "execution_count": null,
   "metadata": {},
   "outputs": [],
   "source": [
    "ControlRegisters(BOARD).read('identifier')"
   ]
  },
  {
   "attachments": {},
   "cell_type": "markdown",
   "metadata": {},
   "source": [
    "### Control Acquisitions\n",
    "\n",
    "Now that we have a connection to the backend, we can control acquisitions remotely."
   ]
  },
  {
   "cell_type": "code",
   "execution_count": null,
   "metadata": {},
   "outputs": [],
   "source": [
    "from naludaq.backend import AcquisitionManager\n",
    "AM = AcquisitionManager(BOARD)"
   ]
  },
  {
   "cell_type": "code",
   "execution_count": null,
   "metadata": {},
   "outputs": [],
   "source": [
    "# Create an acquisition\n",
    "ACQUISITION = AM.create()\n",
    "print(\"Created acquisition with name:\", ACQUISITION.name)\n",
    "print(\"Available metadata keys:\", ACQUISITION.metadata.keys())"
   ]
  },
  {
   "cell_type": "code",
   "execution_count": null,
   "metadata": {},
   "outputs": [],
   "source": [
    "# List available acquisitions\n",
    "print(\"Available acquisitions:\", [acq.name for acq in AM.list()])"
   ]
  },
  {
   "cell_type": "code",
   "execution_count": null,
   "metadata": {},
   "outputs": [],
   "source": [
    "# Delete an acquisition\n",
    "ACQUISITION.delete()"
   ]
  },
  {
   "attachments": {},
   "cell_type": "markdown",
   "metadata": {},
   "source": [
    "Another tool at our disposal is a **temporary acquisition**.\n",
    "This type of acquisition acts exactly as an ordinary acquisition,\n",
    "except that it is used as a context manager and will delete the acquisition\n",
    "once the context exits."
   ]
  },
  {
   "cell_type": "code",
   "execution_count": null,
   "metadata": {},
   "outputs": [],
   "source": [
    "# Create a temporary acquisition\n",
    "with AM.create_temporary(\"tempacq\") as _acq:\n",
    "    print(\"Created temporary acquisition with name:\", _acq.name)\n",
    "    print(\"Available acquisitions:\", [a.name for a in  AM.list()])\n",
    "print(\"Available acquisitions after cleanup:\", [a.name for a in  AM.list()])"
   ]
  },
  {
   "cell_type": "code",
   "execution_count": null,
   "metadata": {},
   "outputs": [],
   "source": [
    "# Set an acquisition as output for data\n",
    "ACQUISITION = AM.create()\n",
    "ACQUISITION.set_output()\n",
    "print(\"Current output acquisition:\", AM.current_acquisition.name)"
   ]
  },
  {
   "cell_type": "code",
   "execution_count": null,
   "metadata": {},
   "outputs": [],
   "source": [
    "# Reset the output acquisition (stops storage)\n",
    "AM.current_acquisition = None\n",
    "print(\"Current output acquisition:\", AM.current_acquisition)"
   ]
  },
  {
   "attachments": {},
   "cell_type": "markdown",
   "metadata": {},
   "source": [
    "## Data Readout\n",
    "\n",
    "Reading events works a bit differently since we no longer have a DAQ available to use.\n",
    "Instead, we have access to the acquisition file system.\n",
    "\n",
    "In this example, we'll use a temporary acquisition to store data, but you could\n",
    "easily use a persistent acquisition instead. We start a readout as normal,\n",
    "and at the end we *localize* the acquisition -- meaning we transfer all events\n",
    "from the backend to Python in memory. This is useful for transferring events that\n",
    "you know you will need quick/repeated access to."
   ]
  },
  {
   "cell_type": "code",
   "execution_count": null,
   "metadata": {},
   "outputs": [],
   "source": [
    "import time\n",
    "\n",
    "from naludaq.backend import AcquisitionManager\n",
    "from naludaq.controllers import (\n",
    "    get_board_controller,\n",
    "    get_readout_controller\n",
    ")"
   ]
  },
  {
   "cell_type": "code",
   "execution_count": null,
   "metadata": {},
   "outputs": [],
   "source": [
    "# We'll read to a temporary acquisition\n",
    "with AcquisitionManager(BOARD).create_temporary() as temp:\n",
    "    temp.set_output()\n",
    "    get_readout_controller(BOARD).set_read_window(8, 8, 8)\n",
    "    get_board_controller(BOARD).start_readout(\"imm\")\n",
    "    try:\n",
    "        time.sleep(5)\n",
    "    finally:\n",
    "        get_board_controller(BOARD).stop_readout()\n",
    "    # Use the transfer() function to localize the acquisition\n",
    "    # before the temporary acquistion is dropped\n",
    "    LOCAL_ACQ = temp.transfer()\n",
    "    print(f'Got {len(LOCAL_ACQ)} events')"
   ]
  },
  {
   "attachments": {},
   "cell_type": "markdown",
   "metadata": {},
   "source": [
    "## Accessing Events"
   ]
  },
  {
   "attachments": {},
   "cell_type": "markdown",
   "metadata": {},
   "source": [
    "Events can be accessed from remote and local acquisitions by using the subscript operator, or by using one of the getter methods."
   ]
  },
  {
   "cell_type": "code",
   "execution_count": null,
   "metadata": {},
   "outputs": [],
   "source": [
    "import matplotlib.pyplot as plt\n",
    "from naludaq.parsers import get_parser\n",
    "\n",
    "EVENT_IDX = 1\n",
    "_parser = get_parser(BOARD.params)\n",
    "_parsed_event = LOCAL_ACQ.parsed_event(_parser, EVENT_IDX)\n",
    "for chan, (time, data) in enumerate(zip(_parsed_event[\"time\"], _parsed_event[\"data\"])):\n",
    "    plt.plot(time, data, label=f\"Channel {chan}\")\n",
    "plt.title(f\"Acquisition '{LOCAL_ACQ.name}' - Event {EVENT_IDX}\")\n",
    "plt.xlabel(\"Sample\")\n",
    "plt.ylabel(\"ADC Count\")\n",
    "plt.legend();"
   ]
  },
  {
   "attachments": {},
   "cell_type": "markdown",
   "metadata": {},
   "source": [
    "### Handling the Board Connection"
   ]
  },
  {
   "attachments": {},
   "cell_type": "markdown",
   "metadata": {},
   "source": [
    "Information about the board connection can be accessed through the `device` property of the `ConnectionManager`. The `device` object also allows you to configure the connection (e.g. baud rate, ports, etc.)"
   ]
  },
  {
   "cell_type": "code",
   "execution_count": null,
   "metadata": {},
   "outputs": [],
   "source": [
    "from naludaq.backend import ConnectionManager"
   ]
  },
  {
   "cell_type": "code",
   "execution_count": null,
   "metadata": {},
   "outputs": [],
   "source": [
    "from naludaq.backend import ConnectionManager\n",
    "\n",
    "# Which properties/methods are available depend on the connection type.\n",
    "DEVICE = ConnectionManager(BOARD).device\n",
    "print('Device string representation:', DEVICE)\n",
    "print('Device type:', DEVICE.type)\n",
    "print('Serial number:', DEVICE.serial_number)\n",
    "print('COM port:', DEVICE.com_port)\n",
    "print('Baud rate:', DEVICE.baud_rate)"
   ]
  },
  {
   "attachments": {},
   "cell_type": "markdown",
   "metadata": {},
   "source": [
    "The `connect()`/`disconnect()` methods are still available as well."
   ]
  },
  {
   "cell_type": "code",
   "execution_count": null,
   "metadata": {},
   "outputs": [],
   "source": [
    "BOARD.disconnect()\n",
    "BOARD.connect()"
   ]
  }
 ],
 "metadata": {
  "kernelspec": {
   "display_name": "nalu-dev",
   "language": "python",
   "name": "python3"
  },
  "language_info": {
   "codemirror_mode": {
    "name": "ipython",
    "version": 3
   },
   "file_extension": ".py",
   "mimetype": "text/x-python",
   "name": "python",
   "nbconvert_exporter": "python",
   "pygments_lexer": "ipython3",
   "version": "3.9.16"
  },
  "vscode": {
   "interpreter": {
    "hash": "6e0b70849fdb20d38878bfc64d929e06ecf71e818f5fa92d655d4d151138e99a"
   }
  }
 },
 "nbformat": 4,
 "nbformat_minor": 2
}
