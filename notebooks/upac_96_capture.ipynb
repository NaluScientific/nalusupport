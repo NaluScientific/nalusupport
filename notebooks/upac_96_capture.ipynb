{
 "cells": [
  {
   "attachments": {},
   "cell_type": "markdown",
   "metadata": {},
   "source": [
    "## UPAC96 Capture\n",
    "\n",
    "This notebook demostrates how to capture events with the UPAC96"
   ]
  },
  {
   "attachments": {},
   "cell_type": "markdown",
   "metadata": {},
   "source": [
    "### Naludaq Version\n",
    "*Max Version*: `0.17.2`  \n",
    "*Min Version*: `0.17.2`"
   ]
  },
  {
   "cell_type": "code",
   "execution_count": null,
   "metadata": {},
   "outputs": [],
   "source": [
    "# Print Naludaq version\n",
    "import naludaq\n",
    "print(f\"Naludaq version: {naludaq.__version__}\")"
   ]
  },
  {
   "attachments": {},
   "cell_type": "markdown",
   "metadata": {},
   "source": [
    "### Compatible Boards\n",
    "+ `UPAC96`\n",
    "    + Firmware: `v911` - `v911`\n"
   ]
  },
  {
   "cell_type": "code",
   "execution_count": null,
   "metadata": {},
   "outputs": [],
   "source": [
    "%load_ext autoreload\n",
    "%autoreload 2\n",
    "\n",
    "from collections import deque\n",
    "from logging import getLogger, DEBUG, INFO, StreamHandler, Formatter\n",
    "\n",
    "from naludaq.board import Board, startup_board\n",
    "from naludaq.communication import AnalogRegisters, DigitalRegisters, ControlRegisters\n",
    "from naludaq.daq import DebugDaq\n",
    "from naludaq.parsers import Upac96Parser\n",
    "\n",
    "import numpy as np\n",
    "import matplotlib\n",
    "import matplotlib.pyplot as plt\n",
    "import serial\n",
    "import time"
   ]
  },
  {
   "attachments": {},
   "cell_type": "markdown",
   "metadata": {},
   "source": [
    "### Logger"
   ]
  },
  {
   "cell_type": "code",
   "execution_count": null,
   "metadata": {},
   "outputs": [],
   "source": [
    "def setup_logger(connection_level = DEBUG):\n",
    "    \"\"\"Setup a logger for Naludaq to print out debug information.\n",
    "    \n",
    "    Args:\n",
    "        connection_level (int): Sets logging level for UART/FTDI connections.\n",
    "            Warning: If set too low, VS Code may crash\n",
    "    \"\"\"\n",
    "    logger = getLogger()\n",
    "    logger.setLevel(DEBUG)\n",
    "\n",
    "    # UART is very verbose, keep on info unless something is broken.\n",
    "    # getLogger(\"naludaq.UART\").setLevel(connection_level)\n",
    "    # getLogger(\"naludaq.FTDI\").setLevel(connection_level)\n",
    "\n",
    "    handler = StreamHandler()\n",
    "    handler.setFormatter(Formatter(\"%(asctime)s %(name)-30s [%(levelname)-6s]: %(message)s\"))\n",
    "    logger.addHandler(handler)\n",
    "\n",
    "    return logger\n",
    "\n",
    "try:\n",
    "    logger\n",
    "except:\n",
    "    logger = setup_logger()\n"
   ]
  },
  {
   "attachments": {},
   "cell_type": "markdown",
   "metadata": {},
   "source": [
    "## Board Connection"
   ]
  },
  {
   "cell_type": "code",
   "execution_count": null,
   "metadata": {},
   "outputs": [],
   "source": [
    "board = Board('upac96')\n",
    "board.load_registers()\n",
    "board.get_uart_connection(serial_number='FTCKIDF5', baud=115200)\n"
   ]
  },
  {
   "attachments": {},
   "cell_type": "markdown",
   "metadata": {},
   "source": [
    "### Startup Routine"
   ]
  },
  {
   "cell_type": "code",
   "execution_count": null,
   "metadata": {},
   "outputs": [],
   "source": [
    "startup_board(board)"
   ]
  },
  {
   "cell_type": "code",
   "execution_count": null,
   "metadata": {},
   "outputs": [],
   "source": [
    "cr = ControlRegisters(board)\n",
    "print(cr.read('identifier'))"
   ]
  },
  {
   "cell_type": "code",
   "execution_count": null,
   "metadata": {},
   "outputs": [],
   "source": [
    "cr = ControlRegisters(board)\n",
    "# Flush fifos, disable USB & enable UART\n",
    "cr.write('usb_fifo_disable', 1)\n",
    "cr.write('uart_fifo_disable', 1)\n",
    "time.sleep(0.2)\n",
    "cr.write('usb_fifo_disable', 1)\n",
    "cr.write('uart_fifo_disable', 0)\n",
    "time.sleep(0.2)"
   ]
  },
  {
   "attachments": {},
   "cell_type": "markdown",
   "metadata": {},
   "source": [
    "### Get Ready for Data"
   ]
  },
  {
   "cell_type": "code",
   "execution_count": null,
   "metadata": {},
   "outputs": [],
   "source": [
    "dr = DigitalRegisters(board)\n",
    "# dr.write('enable_testpattern', 0)\n",
    "cr.write('continuousmode', 1)\n",
    "cr.write('arm', 1)\n",
    "time.sleep(0.25)\n",
    "cr.write('arm', 0)\n",
    "\n",
    "# \"00\"   Software Trigger (Default)\n",
    "# \"01\"   UDC Self Trigger\n",
    "# \"10\"   FPGA auto trigger 1 Hz\n",
    "# \"11\"   External Trigger\n",
    "cr.write('trigger_select', 0x00)"
   ]
  },
  {
   "attachments": {},
   "cell_type": "markdown",
   "metadata": {},
   "source": [
    "### Get Data"
   ]
  },
  {
   "cell_type": "code",
   "execution_count": null,
   "metadata": {},
   "outputs": [],
   "source": [
    "parser = Upac96Parser(board.params)\n",
    "ddaq = DebugDaq(board, store_raw_data=True, custom_parser = parser)"
   ]
  },
  {
   "cell_type": "code",
   "execution_count": null,
   "metadata": {},
   "outputs": [],
   "source": [
    "ddaq.start_capture()\n",
    "time.sleep(0.1)\n",
    "board.connection.send('C0000003')\n",
    "time.sleep(24) # 2 sec for 2M baud, 24 sec for 115200\n",
    "ddaq.stop_capture()\n",
    "print(f\"Output Buffer len: {len(ddaq.output_buffer)}\")"
   ]
  },
  {
   "cell_type": "code",
   "execution_count": null,
   "metadata": {},
   "outputs": [],
   "source": [
    "board.disconnect()"
   ]
  },
  {
   "attachments": {},
   "cell_type": "markdown",
   "metadata": {},
   "source": [
    "## Graph Data"
   ]
  },
  {
   "cell_type": "code",
   "execution_count": null,
   "metadata": {},
   "outputs": [],
   "source": [
    "# Setup graph style\n",
    "cmap = matplotlib.cm.get_cmap('ocean')\n",
    "matplotlib.rcParams.update({'font.size': 18})\n",
    "matplotlib.rcParams.update({'font.family': 'monospace'})"
   ]
  },
  {
   "cell_type": "code",
   "execution_count": null,
   "metadata": {},
   "outputs": [],
   "source": [
    "event = 1\n",
    "data = ddaq.output_buffer[event]['data']\n",
    "tim = ddaq.output_buffer[event]['time']\n",
    "\n",
    "channels = data.shape[0]\n",
    "fig = plt.figure(figsize=(8,8), constrained_layout=True)\n",
    "plt.xlabel('Time')\n",
    "plt.ylabel('ADC Counts')\n",
    "plt.title('UPAC96 Capture')\n",
    "for channel in [0]:\n",
    "    ch_data = data[channel]\n",
    "    ch_time = tim[channel]\n",
    "    ax = plt.plot(ch_time, ch_data, '.', color=cmap(channel/channels))\n",
    "\n",
    "plt.show()"
   ]
  }
 ],
 "metadata": {
  "kernelspec": {
   "display_name": "Python 3.9.12 ('nalu-dev')",
   "language": "python",
   "name": "python3"
  },
  "language_info": {
   "codemirror_mode": {
    "name": "ipython",
    "version": 3
   },
   "file_extension": ".py",
   "mimetype": "text/x-python",
   "name": "python",
   "nbconvert_exporter": "python",
   "pygments_lexer": "ipython3",
   "version": "3.9.12"
  },
  "vscode": {
   "interpreter": {
    "hash": "19aafdb373e9c9f5f579aba7283426ef4b21b1116573b1fcfac821e6343cfbff"
   }
  }
 },
 "nbformat": 4,
 "nbformat_minor": 2
}
