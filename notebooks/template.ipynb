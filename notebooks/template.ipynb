{
 "cells": [
  {
   "attachments": {},
   "cell_type": "markdown",
   "metadata": {},
   "source": [
    "## Description / Title\n",
    "\n",
    "Insert description"
   ]
  },
  {
   "attachments": {},
   "cell_type": "markdown",
   "metadata": {},
   "source": [
    "### Naludaq Version\n",
    "*Max Version*: `0.17.2`  \n",
    "*Min Version*: `0.17.2`"
   ]
  },
  {
   "cell_type": "code",
   "execution_count": null,
   "metadata": {},
   "outputs": [],
   "source": [
    "# Print Naludaq version\n",
    "import naludaq\n",
    "print(f\"Naludaq version: {naludaq.__version__}\")"
   ]
  },
  {
   "attachments": {},
   "cell_type": "markdown",
   "metadata": {},
   "source": [
    "### Compatible Boards\n",
    "+ `UPAC96`\n",
    "    + Firmware: `v911` - `v911`"
   ]
  },
  {
   "attachments": {},
   "cell_type": "markdown",
   "metadata": {},
   "source": [
    "### Equipment Needed\n",
    "+ Function Generator\n",
    "+ Oscilloscope"
   ]
  },
  {
   "attachments": {},
   "cell_type": "markdown",
   "metadata": {},
   "source": [
    "## Example Code"
   ]
  },
  {
   "attachments": {},
   "cell_type": "markdown",
   "metadata": {},
   "source": [
    "`Give descriptions and/or reasoning of code`"
   ]
  },
  {
   "attachments": {},
   "cell_type": "markdown",
   "metadata": {},
   "source": [
    "This notebook is to demonstrate how to capture an event with Naludaq's software on the UPAC96 with software trigger."
   ]
  },
  {
   "cell_type": "code",
   "execution_count": null,
   "metadata": {},
   "outputs": [],
   "source": [
    "%load_ext autoreload\n",
    "%autoreload 2\n",
    "\n",
    "from logging import getLogger, DEBUG, StreamHandler, Formatter\n",
    "import matplotlib.pyplot as plt\n",
    "import time\n",
    "\n",
    "from naludaq.board import Board, startup_board\n",
    "from naludaq.controllers import get_board_controller\n",
    "from naludaq.daq import DebugDaq\n",
    "\n",
    "from naluexamples.helpers.plotting import *"
   ]
  },
  {
   "attachments": {},
   "cell_type": "markdown",
   "metadata": {},
   "source": [
    "### Setup Logger"
   ]
  },
  {
   "cell_type": "code",
   "execution_count": null,
   "metadata": {},
   "outputs": [],
   "source": [
    "def setup_logger(connection_level = DEBUG):\n",
    "    \"\"\"Setup a logger for Naludaq to print out debug information.\n",
    "    \n",
    "    Args:\n",
    "        connection_level (int): Sets logging level for UART/FTDI connections.\n",
    "            Warning: If set too low, VS Code may crash\n",
    "    \"\"\"\n",
    "    logger = getLogger()\n",
    "    logger.setLevel(DEBUG)\n",
    "\n",
    "    # UART is very verbose, keep on info unless something is broken.\n",
    "    # getLogger(\"naludaq.UART\").setLevel(connection_level)\n",
    "    # getLogger(\"naludaq.FTDI\").setLevel(connection_level)\n",
    "\n",
    "    handler = StreamHandler()\n",
    "    handler.setFormatter(Formatter(\"%(asctime)s %(name)-30s [%(levelname)-6s]: %(message)s\"))\n",
    "    logger.addHandler(handler)\n",
    "\n",
    "    return logger\n",
    "\n",
    "try:\n",
    "    logger\n",
    "except:\n",
    "    logger = setup_logger()\n"
   ]
  },
  {
   "attachments": {},
   "cell_type": "markdown",
   "metadata": {},
   "source": [
    "### Board Creation and Startup"
   ]
  },
  {
   "cell_type": "code",
   "execution_count": null,
   "metadata": {},
   "outputs": [],
   "source": [
    "MODEL = \"upac96\"\n",
    "SERIAL_NUMBER = \"FTCKIDF5\"\n",
    "# Refer to BOARD.params[\"possible_bauds\"] keys for a list of available baudrates.\n",
    "BAUD_RATE = 2000000\n",
    "BOARD = Board(MODEL)\n",
    "BOARD.load_registers()\n",
    "BOARD.get_ftdi_connection(serial_number=SERIAL_NUMBER, baud=BAUD_RATE)\n",
    "startup_board(BOARD)"
   ]
  },
  {
   "attachments": {},
   "cell_type": "markdown",
   "metadata": {},
   "source": [
    "### Capture Data"
   ]
  },
  {
   "attachments": {},
   "cell_type": "markdown",
   "metadata": {},
   "source": [
    "Data is captured with a debugdaq, and events are stored to the DebugDaq's `output_buffer` property"
   ]
  },
  {
   "cell_type": "code",
   "execution_count": null,
   "metadata": {},
   "outputs": [],
   "source": [
    "ddaq = DebugDaq(BOARD)\n",
    "bc = get_board_controller(BOARD)\n",
    "# Opening the board with a context manager, ensures the connection is closed when we are done using it\n",
    "with BOARD as board:\n",
    "    ddaq.start_capture()\n",
    "    bc.start_readout(\"software\")\n",
    "    time.sleep(0.1)\n",
    "    bc.toggle_trigger()\n",
    "    time.sleep(3)\n",
    "    bc.stop_readout()\n",
    "    ddaq.stop_capture()"
   ]
  },
  {
   "attachments": {},
   "cell_type": "markdown",
   "metadata": {},
   "source": [
    "### Graph Data"
   ]
  },
  {
   "attachments": {},
   "cell_type": "markdown",
   "metadata": {},
   "source": [
    "Matplotlib setup"
   ]
  },
  {
   "cell_type": "code",
   "execution_count": null,
   "metadata": {},
   "outputs": [],
   "source": [
    "# Setup graph style\n",
    "cmap = get_color_mapping(\"ocean\")\n",
    "set_plot_style(font_size=18, font_family=\"monospace\")"
   ]
  },
  {
   "cell_type": "code",
   "execution_count": null,
   "metadata": {},
   "outputs": [],
   "source": [
    "EVENT = 0\n",
    "CHANNELS = [0, 1, 2, 3]\n",
    "DATA = ddaq.output_buffer[EVENT][\"data\"]\n",
    "TIME = ddaq.output_buffer[EVENT][\"time\"]\n",
    "\n",
    "fig = plt.figure(figsize=(8,8), constrained_layout=True)\n",
    "plt.xlabel(\"Time\")\n",
    "plt.ylabel(\"ADC Counts\")\n",
    "plt.title(f\"{MODEL.upper()} Capture\")\n",
    "for channel in CHANNELS:\n",
    "    ch_data = DATA[channel]\n",
    "    ch_time = TIME[channel]\n",
    "    ax = plt.plot(ch_time, ch_data, \".\", label=f\"Channel {channel}\")\n",
    "    \n",
    "plt.legend()\n",
    "plt.show()"
   ]
  }
 ],
 "metadata": {
  "kernelspec": {
   "display_name": "Python 3.9.12 ('nalu-dev')",
   "language": "python",
   "name": "python3"
  },
  "language_info": {
   "codemirror_mode": {
    "name": "ipython",
    "version": 3
   },
   "file_extension": ".py",
   "mimetype": "text/x-python",
   "name": "python",
   "nbconvert_exporter": "python",
   "pygments_lexer": "ipython3",
   "version": "3.9.16"
  },
  "vscode": {
   "interpreter": {
    "hash": "19aafdb373e9c9f5f579aba7283426ef4b21b1116573b1fcfac821e6343cfbff"
   }
  }
 },
 "nbformat": 4,
 "nbformat_minor": 2
}
